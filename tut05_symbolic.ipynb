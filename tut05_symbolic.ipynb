{
 "metadata": {
  "language_info": {
   "codemirror_mode": {
    "name": "ipython",
    "version": 3
   },
   "file_extension": ".py",
   "mimetype": "text/x-python",
   "name": "python",
   "nbconvert_exporter": "python",
   "pygments_lexer": "ipython3",
   "version": "3.8.5-final"
  },
  "orig_nbformat": 2,
  "kernelspec": {
   "name": "python3",
   "display_name": "Python 3"
  }
 },
 "nbformat": 4,
 "nbformat_minor": 2,
 "cells": [
  {
   "cell_type": "code",
   "execution_count": 18,
   "metadata": {},
   "outputs": [],
   "source": [
    "import numpy as np\n",
    "import sympy as sp\n",
    "\n",
    "sp.init_printing(use_latex=True)"
   ]
  },
  {
   "cell_type": "code",
   "execution_count": 19,
   "metadata": {},
   "outputs": [
    {
     "output_type": "execute_result",
     "data": {
      "text/plain": [
       "                  2                2 \n",
       " -(-4⋅t + x - 2⋅π)      -(-4⋅t + x)  \n",
       " ───────────────────    ─────────────\n",
       "     4⋅ν⋅(t + 1)         4⋅ν⋅(t + 1) \n",
       "ℯ                    + ℯ             "
      ],
      "image/png": "[encoded data removed]",
      "text/latex": "$\\displaystyle e^{- \\frac{\\left(- 4 t + x - 2 \\pi\\right)^{2}}{4 \\nu \\left(t + 1\\right)}} + e^{- \\frac{\\left(- 4 t + x\\right)^{2}}{4 \\nu \\left(t + 1\\right)}}$"
     },
     "metadata": {},
     "execution_count": 19
    }
   ],
   "source": [
    "x,nu,t = sp.symbols(\"x nu t\")\n",
    "phi=(sp.exp(-(x-4*t)**2/(4*nu*(t+1)))+sp.exp(-(x-4*t-2*sp.pi)**2/(4*nu*(t+1))))\n",
    "phi"
   ]
  },
  {
   "cell_type": "code",
   "execution_count": 20,
   "metadata": {},
   "outputs": [
    {
     "output_type": "execute_result",
     "data": {
      "text/plain": [
       "                           2                                         2 \n",
       "                -(-4⋅t + x)                         -(-4⋅t + x - 2⋅π)  \n",
       "                ─────────────                       ───────────────────\n",
       "                 4⋅ν⋅(t + 1)                            4⋅ν⋅(t + 1)    \n",
       "  (-8⋅t + 2⋅x)⋅ℯ                (-8⋅t + 2⋅x - 4⋅π)⋅ℯ                   \n",
       "- ─────────────────────────── - ───────────────────────────────────────\n",
       "          4⋅ν⋅(t + 1)                         4⋅ν⋅(t + 1)              "
      ],
      "image/png": "[encoded data removed]",
      "text/latex": "$\\displaystyle - \\frac{\\left(- 8 t + 2 x\\right) e^{- \\frac{\\left(- 4 t + x\\right)^{2}}{4 \\nu \\left(t + 1\\right)}}}{4 \\nu \\left(t + 1\\right)} - \\frac{\\left(- 8 t + 2 x - 4 \\pi\\right) e^{- \\frac{\\left(- 4 t + x - 2 \\pi\\right)^{2}}{4 \\nu \\left(t + 1\\right)}}}{4 \\nu \\left(t + 1\\right)}$"
     },
     "metadata": {},
     "execution_count": 20
    }
   ],
   "source": [
    "phiprime = phi.diff(x)\n",
    "phiprime"
   ]
  },
  {
   "cell_type": "code",
   "execution_count": 21,
   "metadata": {},
   "outputs": [
    {
     "output_type": "stream",
     "name": "stdout",
     "text": [
      "-(-8*t + 2*x)*exp(-(-4*t + x)**2/(4*nu*(t + 1)))/(4*nu*(t + 1)) - (-8*t + 2*x - 4*pi)*exp(-(-4*t + x - 2*pi)**2/(4*nu*(t + 1)))/(4*nu*(t + 1))\n"
     ]
    }
   ],
   "source": [
    "print(phiprime)"
   ]
  },
  {
   "cell_type": "code",
   "execution_count": 22,
   "metadata": {},
   "outputs": [
    {
     "output_type": "execute_result",
     "data": {
      "text/plain": [
       "      ⎛                           2                                         2 \n",
       "      ⎜                -(-4⋅t + x)                         -(-4⋅t + x - 2⋅π)  \n",
       "      ⎜                ─────────────                       ───────────────────\n",
       "      ⎜                 4⋅ν⋅(t + 1)                            4⋅ν⋅(t + 1)    \n",
       "      ⎜  (-8⋅t + 2⋅x)⋅ℯ                (-8⋅t + 2⋅x - 4⋅π)⋅ℯ                   \n",
       "  2⋅ν⋅⎜- ─────────────────────────── - ───────────────────────────────────────\n",
       "      ⎝          4⋅ν⋅(t + 1)                         4⋅ν⋅(t + 1)              \n",
       "- ────────────────────────────────────────────────────────────────────────────\n",
       "                                        2                2                    \n",
       "                       -(-4⋅t + x - 2⋅π)      -(-4⋅t + x)                     \n",
       "                       ───────────────────    ─────────────                   \n",
       "                           4⋅ν⋅(t + 1)         4⋅ν⋅(t + 1)                    \n",
       "                      ℯ                    + ℯ                                \n",
       "\n",
       "⎞    \n",
       "⎟    \n",
       "⎟    \n",
       "⎟    \n",
       "⎟    \n",
       "⎟    \n",
       "⎠    \n",
       "─ + 4\n",
       "     \n",
       "     \n",
       "     \n",
       "     \n",
       "     "
      ],
      "image/png": "[encoded data removed]",
      "text/latex": "$\\displaystyle - \\frac{2 \\nu \\left(- \\frac{\\left(- 8 t + 2 x\\right) e^{- \\frac{\\left(- 4 t + x\\right)^{2}}{4 \\nu \\left(t + 1\\right)}}}{4 \\nu \\left(t + 1\\right)} - \\frac{\\left(- 8 t + 2 x - 4 \\pi\\right) e^{- \\frac{\\left(- 4 t + x - 2 \\pi\\right)^{2}}{4 \\nu \\left(t + 1\\right)}}}{4 \\nu \\left(t + 1\\right)}\\right)}{e^{- \\frac{\\left(- 4 t + x - 2 \\pi\\right)^{2}}{4 \\nu \\left(t + 1\\right)}} + e^{- \\frac{\\left(- 4 t + x\\right)^{2}}{4 \\nu \\left(t + 1\\right)}}} + 4$"
     },
     "metadata": {},
     "execution_count": 22
    }
   ],
   "source": [
    "from sympy.utilities.lambdify import lambdify\n",
    "\n",
    "u = -2*nu*(phiprime/phi)+4\n",
    "u"
   ]
  },
  {
   "cell_type": "code",
   "execution_count": 23,
   "metadata": {},
   "outputs": [
    {
     "output_type": "stream",
     "name": "stdout",
     "text": [
      "(4*(t + 1)*(exp((4*t - x)**2/(4*nu*(t + 1))) + exp((4*t - x + 2*pi)**2/(4*nu*(t + 1)))) - (4*t - x)*exp((4*t - x + 2*pi)**2/(4*nu*(t + 1))) - (4*t - x + 2*pi)*exp((4*t - x)**2/(4*nu*(t + 1))))/((t + 1)*(exp((4*t - x)**2/(4*nu*(t + 1))) + exp((4*t - x + 2*pi)**2/(4*nu*(t + 1)))))\n"
     ]
    }
   ],
   "source": [
    "print(sp.simplify(u))"
   ]
  },
  {
   "cell_type": "code",
   "execution_count": 25,
   "metadata": {},
   "outputs": [
    {
     "output_type": "stream",
     "name": "stdout",
     "text": [
      "3.77430539414274\n"
     ]
    }
   ],
   "source": [
    "ufunc=lambdify((t,x,nu),u)\n",
    "print(ufunc(0,0,3))"
   ]
  },
  {
   "cell_type": "code",
   "execution_count": null,
   "metadata": {},
   "outputs": [],
   "source": []
  }
 ]
}